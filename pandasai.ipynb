{
 "cells": [
  {
   "cell_type": "code",
   "execution_count": 14,
   "metadata": {},
   "outputs": [
    {
     "name": "stdout",
     "output_type": "stream",
     "text": [
      "Requirement already satisfied: pandasai in /usr/local/python/3.10.8/lib/python3.10/site-packages (1.4.1)\n",
      "\u001b[31mERROR: Could not find a version that satisfies the requirement google-aip (from versions: none)\u001b[0m\u001b[31m\n",
      "\u001b[0m\u001b[31mERROR: No matching distribution found for google-aip\u001b[0m\u001b[31m\n",
      "\u001b[0m\u001b[33mWARNING: There was an error checking the latest version of pip.\u001b[0m\u001b[33m\n",
      "\u001b[0mCollecting google.generativeai\n",
      "  Downloading google_generativeai-0.2.2-py3-none-any.whl.metadata (3.1 kB)\n",
      "Collecting google-ai-generativelanguage==0.3.3 (from google.generativeai)\n",
      "  Downloading google_ai_generativelanguage-0.3.3-py3-none-any.whl.metadata (5.1 kB)\n",
      "Requirement already satisfied: google-auth in /usr/local/python/3.10.8/lib/python3.10/site-packages (from google.generativeai) (2.23.3)\n",
      "Requirement already satisfied: google-api-core in /usr/local/python/3.10.8/lib/python3.10/site-packages (from google.generativeai) (2.12.0)\n",
      "Requirement already satisfied: protobuf in /usr/local/python/3.10.8/lib/python3.10/site-packages (from google.generativeai) (4.24.4)\n",
      "Requirement already satisfied: tqdm in /usr/local/python/3.10.8/lib/python3.10/site-packages (from google.generativeai) (4.66.1)\n",
      "Requirement already satisfied: proto-plus<2.0.0dev,>=1.22.0 in /usr/local/python/3.10.8/lib/python3.10/site-packages (from google-ai-generativelanguage==0.3.3->google.generativeai) (1.22.3)\n",
      "Requirement already satisfied: googleapis-common-protos<2.0.dev0,>=1.56.2 in /usr/local/python/3.10.8/lib/python3.10/site-packages (from google-api-core->google.generativeai) (1.61.0)\n",
      "Requirement already satisfied: requests<3.0.0.dev0,>=2.18.0 in /home/codespace/.local/lib/python3.10/site-packages (from google-api-core->google.generativeai) (2.31.0)\n",
      "Requirement already satisfied: cachetools<6.0,>=2.0.0 in /usr/local/python/3.10.8/lib/python3.10/site-packages (from google-auth->google.generativeai) (5.3.2)\n",
      "Requirement already satisfied: pyasn1-modules>=0.2.1 in /usr/local/python/3.10.8/lib/python3.10/site-packages (from google-auth->google.generativeai) (0.3.0)\n",
      "Requirement already satisfied: rsa<5,>=3.1.4 in /usr/local/python/3.10.8/lib/python3.10/site-packages (from google-auth->google.generativeai) (4.9)\n",
      "Requirement already satisfied: grpcio<2.0dev,>=1.33.2 in /usr/local/python/3.10.8/lib/python3.10/site-packages (from google-api-core[grpc]!=2.0.*,!=2.1.*,!=2.10.*,!=2.2.*,!=2.3.*,!=2.4.*,!=2.5.*,!=2.6.*,!=2.7.*,!=2.8.*,!=2.9.*,<3.0.0dev,>=1.34.0->google-ai-generativelanguage==0.3.3->google.generativeai) (1.59.0)\n",
      "Requirement already satisfied: grpcio-status<2.0.dev0,>=1.33.2 in /usr/local/python/3.10.8/lib/python3.10/site-packages (from google-api-core[grpc]!=2.0.*,!=2.1.*,!=2.10.*,!=2.2.*,!=2.3.*,!=2.4.*,!=2.5.*,!=2.6.*,!=2.7.*,!=2.8.*,!=2.9.*,<3.0.0dev,>=1.34.0->google-ai-generativelanguage==0.3.3->google.generativeai) (1.59.0)\n",
      "Requirement already satisfied: pyasn1<0.6.0,>=0.4.6 in /usr/local/python/3.10.8/lib/python3.10/site-packages (from pyasn1-modules>=0.2.1->google-auth->google.generativeai) (0.5.0)\n",
      "Requirement already satisfied: charset-normalizer<4,>=2 in /home/codespace/.local/lib/python3.10/site-packages (from requests<3.0.0.dev0,>=2.18.0->google-api-core->google.generativeai) (3.3.0)\n",
      "Requirement already satisfied: idna<4,>=2.5 in /home/codespace/.local/lib/python3.10/site-packages (from requests<3.0.0.dev0,>=2.18.0->google-api-core->google.generativeai) (3.4)\n",
      "Requirement already satisfied: urllib3<3,>=1.21.1 in /home/codespace/.local/lib/python3.10/site-packages (from requests<3.0.0.dev0,>=2.18.0->google-api-core->google.generativeai) (2.0.6)\n",
      "Requirement already satisfied: certifi>=2017.4.17 in /home/codespace/.local/lib/python3.10/site-packages (from requests<3.0.0.dev0,>=2.18.0->google-api-core->google.generativeai) (2023.7.22)\n",
      "Downloading google_generativeai-0.2.2-py3-none-any.whl (133 kB)\n",
      "\u001b[2K   \u001b[90m━━━━━━━━━━━━━━━━━━━━━━━━━━━━━━━━━━━━━━━\u001b[0m \u001b[32m133.2/133.2 kB\u001b[0m \u001b[31m890.2 kB/s\u001b[0m eta \u001b[36m0:00:00\u001b[0m0:01\u001b[0m00:01\u001b[0mm\n",
      "\u001b[?25hDownloading google_ai_generativelanguage-0.3.3-py3-none-any.whl (267 kB)\n",
      "\u001b[2K   \u001b[90m━━━━━━━━━━━━━━━━━━━━━━━━━━━━━━━━━━━━━━━━\u001b[0m \u001b[32m267.9/267.9 kB\u001b[0m \u001b[31m2.6 MB/s\u001b[0m eta \u001b[36m0:00:00\u001b[0m00:01\u001b[0m00:01\u001b[0m\n",
      "\u001b[?25hInstalling collected packages: google-ai-generativelanguage, google.generativeai\n",
      "Successfully installed google-ai-generativelanguage-0.3.3 google.generativeai-0.2.2\n",
      "\u001b[33mWARNING: There was an error checking the latest version of pip.\u001b[0m\u001b[33m\n",
      "\u001b[0m"
     ]
    }
   ],
   "source": [
    "!pip install pandasai\n",
    "!pip install google.generativeai"
   ]
  },
  {
   "cell_type": "code",
   "execution_count": 16,
   "metadata": {},
   "outputs": [],
   "source": [
    "from pandasai import SmartDataframe\n",
    "from pandasai.llm import GooglePalm\n",
    "\n",
    "llm = GooglePalm(api_key=\"Key\")\n",
    "df = SmartDataframe(\"diabetes.csv\", config={\"llm\": llm})"
   ]
  },
  {
   "cell_type": "code",
   "execution_count": 4,
   "metadata": {},
   "outputs": [
    {
     "ename": "IOException",
     "evalue": "IO Error: Could not set lock on file \"/workspaces/langchain-car-chatbot/cache/cache_db.db\": Resource temporarily unavailable",
     "output_type": "error",
     "traceback": [
      "\u001b[0;31m---------------------------------------------------------------------------\u001b[0m",
      "\u001b[0;31mIOException\u001b[0m                               Traceback (most recent call last)",
      "\u001b[1;32m/workspaces/langchain-car-chatbot/pandasai.ipynb Cell 2\u001b[0m line \u001b[0;36m1\n\u001b[1;32m      <a href='vscode-notebook-cell://codespaces%2Bhumble-doodle-577946gpwwrh4q7w/workspaces/langchain-car-chatbot/pandasai.ipynb#W1sdnNjb2RlLXJlbW90ZQ%3D%3D?line=1'>2</a>\u001b[0m \u001b[39mimport\u001b[39;00m \u001b[39mpandas\u001b[39;00m \u001b[39mas\u001b[39;00m \u001b[39mpd\u001b[39;00m \n\u001b[1;32m      <a href='vscode-notebook-cell://codespaces%2Bhumble-doodle-577946gpwwrh4q7w/workspaces/langchain-car-chatbot/pandasai.ipynb#W1sdnNjb2RlLXJlbW90ZQ%3D%3D?line=2'>3</a>\u001b[0m df \u001b[39m=\u001b[39m pd\u001b[39m.\u001b[39mDataFrame({\n\u001b[1;32m      <a href='vscode-notebook-cell://codespaces%2Bhumble-doodle-577946gpwwrh4q7w/workspaces/langchain-car-chatbot/pandasai.ipynb#W1sdnNjb2RlLXJlbW90ZQ%3D%3D?line=3'>4</a>\u001b[0m     \u001b[39m\"\u001b[39m\u001b[39mcountry\u001b[39m\u001b[39m\"\u001b[39m: [\n\u001b[1;32m      <a href='vscode-notebook-cell://codespaces%2Bhumble-doodle-577946gpwwrh4q7w/workspaces/langchain-car-chatbot/pandasai.ipynb#W1sdnNjb2RlLXJlbW90ZQ%3D%3D?line=4'>5</a>\u001b[0m         \u001b[39m\"\u001b[39m\u001b[39mUnited States\u001b[39m\u001b[39m\"\u001b[39m, \u001b[39m\"\u001b[39m\u001b[39mUnited Kingdom\u001b[39m\u001b[39m\"\u001b[39m, \u001b[39m\"\u001b[39m\u001b[39mFrance\u001b[39m\u001b[39m\"\u001b[39m, \u001b[39m\"\u001b[39m\u001b[39mGermany\u001b[39m\u001b[39m\"\u001b[39m, \u001b[39m\"\u001b[39m\u001b[39mItaly\u001b[39m\u001b[39m\"\u001b[39m, \u001b[39m\"\u001b[39m\u001b[39mSpain\u001b[39m\u001b[39m\"\u001b[39m, \u001b[39m\"\u001b[39m\u001b[39mCanada\u001b[39m\u001b[39m\"\u001b[39m, \u001b[39m\"\u001b[39m\u001b[39mAustralia\u001b[39m\u001b[39m\"\u001b[39m, \u001b[39m\"\u001b[39m\u001b[39mJapan\u001b[39m\u001b[39m\"\u001b[39m, \u001b[39m\"\u001b[39m\u001b[39mChina\u001b[39m\u001b[39m\"\u001b[39m],\n\u001b[0;32m   (...)\u001b[0m\n\u001b[1;32m      <a href='vscode-notebook-cell://codespaces%2Bhumble-doodle-577946gpwwrh4q7w/workspaces/langchain-car-chatbot/pandasai.ipynb#W1sdnNjb2RlLXJlbW90ZQ%3D%3D?line=7'>8</a>\u001b[0m     ],\n\u001b[1;32m      <a href='vscode-notebook-cell://codespaces%2Bhumble-doodle-577946gpwwrh4q7w/workspaces/langchain-car-chatbot/pandasai.ipynb#W1sdnNjb2RlLXJlbW90ZQ%3D%3D?line=8'>9</a>\u001b[0m })\n\u001b[0;32m---> <a href='vscode-notebook-cell://codespaces%2Bhumble-doodle-577946gpwwrh4q7w/workspaces/langchain-car-chatbot/pandasai.ipynb#W1sdnNjb2RlLXJlbW90ZQ%3D%3D?line=10'>11</a>\u001b[0m df \u001b[39m=\u001b[39m SmartDataframe(df)\n\u001b[1;32m     <a href='vscode-notebook-cell://codespaces%2Bhumble-doodle-577946gpwwrh4q7w/workspaces/langchain-car-chatbot/pandasai.ipynb#W1sdnNjb2RlLXJlbW90ZQ%3D%3D?line=11'>12</a>\u001b[0m df\u001b[39m.\u001b[39mchat(\u001b[39m'\u001b[39m\u001b[39mWhich are the countries with GDP greater than 3000000000000?\u001b[39m\u001b[39m'\u001b[39m)\n",
      "File \u001b[0;32m~/.python/current/lib/python3.10/site-packages/pandasai/smart_dataframe/__init__.py:304\u001b[0m, in \u001b[0;36mSmartDataframe.__init__\u001b[0;34m(self, df, name, description, sample_head, config, logger)\u001b[0m\n\u001b[1;32m    302\u001b[0m \u001b[39mself\u001b[39m\u001b[39m.\u001b[39m_table_name \u001b[39m=\u001b[39m name\n\u001b[1;32m    303\u001b[0m \u001b[39mself\u001b[39m\u001b[39m.\u001b[39m_table_description \u001b[39m=\u001b[39m description\n\u001b[0;32m--> 304\u001b[0m \u001b[39mself\u001b[39m\u001b[39m.\u001b[39m_lake \u001b[39m=\u001b[39m SmartDatalake([\u001b[39mself\u001b[39;49m], config, logger)\n\u001b[1;32m    306\u001b[0m \u001b[39m# set instance type in SmartDataLake\u001b[39;00m\n\u001b[1;32m    307\u001b[0m \u001b[39mself\u001b[39m\u001b[39m.\u001b[39m_lake\u001b[39m.\u001b[39mset_instance_type(\u001b[39mself\u001b[39m\u001b[39m.\u001b[39m\u001b[39m__class__\u001b[39m\u001b[39m.\u001b[39m\u001b[39m__name__\u001b[39m)\n",
      "File \u001b[0;32m~/.python/current/lib/python3.10/site-packages/pandasai/smart_datalake/__init__.py:115\u001b[0m, in \u001b[0;36mSmartDatalake.__init__\u001b[0;34m(self, dfs, config, logger, memory, cache)\u001b[0m\n\u001b[1;32m    113\u001b[0m     \u001b[39mself\u001b[39m\u001b[39m.\u001b[39m_cache \u001b[39m=\u001b[39m cache\n\u001b[1;32m    114\u001b[0m \u001b[39melif\u001b[39;00m \u001b[39mself\u001b[39m\u001b[39m.\u001b[39m_config\u001b[39m.\u001b[39menable_cache:\n\u001b[0;32m--> 115\u001b[0m     \u001b[39mself\u001b[39m\u001b[39m.\u001b[39m_cache \u001b[39m=\u001b[39m Cache()\n\u001b[1;32m    117\u001b[0m context \u001b[39m=\u001b[39m Context(\u001b[39mself\u001b[39m\u001b[39m.\u001b[39m_config, \u001b[39mself\u001b[39m\u001b[39m.\u001b[39mlogger, \u001b[39mself\u001b[39m\u001b[39m.\u001b[39mengine)\n\u001b[1;32m    119\u001b[0m \u001b[39mif\u001b[39;00m \u001b[39mself\u001b[39m\u001b[39m.\u001b[39m_config\u001b[39m.\u001b[39mresponse_parser:\n",
      "File \u001b[0;32m~/.python/current/lib/python3.10/site-packages/pandasai/helpers/cache.py:28\u001b[0m, in \u001b[0;36mCache.__init__\u001b[0;34m(self, filename, abs_path)\u001b[0m\n\u001b[1;32m     25\u001b[0m os\u001b[39m.\u001b[39mmakedirs(cache_dir, mode\u001b[39m=\u001b[39m\u001b[39m0o777\u001b[39m, exist_ok\u001b[39m=\u001b[39m\u001b[39mTrue\u001b[39;00m)\n\u001b[1;32m     27\u001b[0m \u001b[39mself\u001b[39m\u001b[39m.\u001b[39mfilepath \u001b[39m=\u001b[39m os\u001b[39m.\u001b[39mpath\u001b[39m.\u001b[39mjoin(cache_dir, filename \u001b[39m+\u001b[39m \u001b[39m\"\u001b[39m\u001b[39m.db\u001b[39m\u001b[39m\"\u001b[39m)\n\u001b[0;32m---> 28\u001b[0m \u001b[39mself\u001b[39m\u001b[39m.\u001b[39mconnection \u001b[39m=\u001b[39m duckdb\u001b[39m.\u001b[39;49mconnect(\u001b[39mself\u001b[39;49m\u001b[39m.\u001b[39;49mfilepath)\n\u001b[1;32m     29\u001b[0m \u001b[39mself\u001b[39m\u001b[39m.\u001b[39mconnection\u001b[39m.\u001b[39mexecute(\n\u001b[1;32m     30\u001b[0m     \u001b[39m\"\u001b[39m\u001b[39mCREATE TABLE IF NOT EXISTS cache (key STRING, value STRING)\u001b[39m\u001b[39m\"\u001b[39m\n\u001b[1;32m     31\u001b[0m )\n",
      "\u001b[0;31mIOException\u001b[0m: IO Error: Could not set lock on file \"/workspaces/langchain-car-chatbot/cache/cache_db.db\": Resource temporarily unavailable"
     ]
    }
   ],
   "source": [
    "from pandasai import SmartDataframe\n",
    "import pandas as pd \n",
    "df = pd.DataFrame({\n",
    "    \"country\": [\n",
    "        \"United States\", \"United Kingdom\", \"France\", \"Germany\", \"Italy\", \"Spain\", \"Canada\", \"Australia\", \"Japan\", \"China\"],\n",
    "    \"gdp\": [\n",
    "        19294482071552, 2891615567872, 2411255037952, 3435817336832, 1745433788416, 1181205135360, 1607402389504, 1490967855104, 4380756541440, 14631844184064\n",
    "    ],\n",
    "})\n",
    "\n",
    "df = SmartDataframe(df)\n",
    "df.chat('Which are the countries with GDP greater than 3000000000000?')"
   ]
  },
  {
   "cell_type": "code",
   "execution_count": null,
   "metadata": {},
   "outputs": [],
   "source": []
  }
 ],
 "metadata": {
  "kernelspec": {
   "display_name": "Python 3",
   "language": "python",
   "name": "python3"
  },
  "language_info": {
   "codemirror_mode": {
    "name": "ipython",
    "version": 3
   },
   "file_extension": ".py",
   "mimetype": "text/x-python",
   "name": "python",
   "nbconvert_exporter": "python",
   "pygments_lexer": "ipython3",
   "version": "3.10.8"
  }
 },
 "nbformat": 4,
 "nbformat_minor": 2
}
